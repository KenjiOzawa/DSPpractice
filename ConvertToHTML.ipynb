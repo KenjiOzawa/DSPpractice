{
 "cells": [
  {
   "cell_type": "code",
   "execution_count": 1,
   "metadata": {},
   "outputs": [
    {
     "name": "stderr",
     "output_type": "stream",
     "text": [
      "'apt-get' は、内部コマンドまたは外部コマンド、\n",
      "操作可能なプログラムまたはバッチ ファイルとして認識されていません。\n"
     ]
    },
    {
     "name": "stdout",
     "output_type": "stream",
     "text": [
      "Collecting pypandoc\n",
      "  Downloading pypandoc-1.5.tar.gz (26 kB)\n",
      "Requirement already satisfied: setuptools in c:\\users\\ozawa\\anaconda3\\lib\\site-packages (from pypandoc) (45.2.0.post20200210)\n",
      "Requirement already satisfied: pip>=8.1.0 in c:\\users\\ozawa\\anaconda3\\lib\\site-packages (from pypandoc) (20.0.2)\n",
      "Requirement already satisfied: wheel>=0.25.0 in c:\\users\\ozawa\\anaconda3\\lib\\site-packages (from pypandoc) (0.34.2)\n",
      "Building wheels for collected packages: pypandoc\n",
      "  Building wheel for pypandoc (setup.py): started\n",
      "  Building wheel for pypandoc (setup.py): finished with status 'done'\n",
      "  Created wheel for pypandoc: filename=pypandoc-1.5-py3-none-any.whl size=17042 sha256=3a6245326d6859633c6a64d10bbe4a649742009b472eebca9136ecaee646a031\n",
      "  Stored in directory: c:\\users\\ozawa\\appdata\\local\\pip\\cache\\wheels\\06\\a7\\1d\\3259fbf0089b15d491d9166b97de3a23d1f915bf7591abafc7\n",
      "Successfully built pypandoc\n",
      "Installing collected packages: pypandoc\n",
      "Successfully installed pypandoc-1.5\n"
     ]
    }
   ],
   "source": [
    "!apt-get install texlive texlive-xetex texlive-latex-extra pandoc\n",
    "!pip install pypandoc"
   ]
  },
  {
   "cell_type": "code",
   "execution_count": null,
   "metadata": {},
   "outputs": [],
   "source": [
    "#!cp drive/My\\ Drive/Colab\\ Notebooks/DSP_practice/chap2.ipynb ./\n",
    "#!jupyter nbconvert --to HTML \"chap2.ipynb\""
   ]
  },
  {
   "cell_type": "code",
   "execution_count": 2,
   "metadata": {},
   "outputs": [
    {
     "data": {
      "text/plain": [
       "'C:\\\\Users\\\\ozawa\\\\Desktop\\\\DSP_practice'"
      ]
     },
     "execution_count": 2,
     "metadata": {},
     "output_type": "execute_result"
    }
   ],
   "source": [
    "pwd"
   ]
  },
  {
   "cell_type": "code",
   "execution_count": 2,
   "metadata": {},
   "outputs": [
    {
     "name": "stderr",
     "output_type": "stream",
     "text": [
      "[NbConvertApp] Converting notebook chap5.ipynb to HTML\n",
      "[NbConvertApp] Writing 28536273 bytes to chap5.html\n"
     ]
    }
   ],
   "source": [
    "!jupyter nbconvert --to HTML \"chap5.ipynb\""
   ]
  },
  {
   "cell_type": "code",
   "execution_count": null,
   "metadata": {},
   "outputs": [],
   "source": []
  }
 ],
 "metadata": {
  "kernelspec": {
   "display_name": "Python 3",
   "language": "python",
   "name": "python3"
  },
  "language_info": {
   "codemirror_mode": {
    "name": "ipython",
    "version": 3
   },
   "file_extension": ".py",
   "mimetype": "text/x-python",
   "name": "python",
   "nbconvert_exporter": "python",
   "pygments_lexer": "ipython3",
   "version": "3.7.6"
  }
 },
 "nbformat": 4,
 "nbformat_minor": 4
}
